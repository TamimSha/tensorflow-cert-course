{
  "cells": [
    {
      "cell_type": "code",
      "execution_count": null,
      "metadata": {
        "id": "zX4Kg8DUTKWO"
      },
      "outputs": [],
      "source": [
        "#@title Licensed under the Apache License, Version 2.0 (the \"License\");\n",
        "# you may not use this file except in compliance with the License.\n",
        "# You may obtain a copy of the License at\n",
        "#\n",
        "# https://www.apache.org/licenses/LICENSE-2.0\n",
        "#\n",
        "# Unless required by applicable law or agreed to in writing, software\n",
        "# distributed under the License is distributed on an \"AS IS\" BASIS,\n",
        "# WITHOUT WARRANTIES OR CONDITIONS OF ANY KIND, either express or implied.\n",
        "# See the License for the specific language governing permissions and\n",
        "# limitations under the License."
      ]
    },
    {
      "cell_type": "markdown",
      "metadata": {
        "id": "mw2VBrBcgvGa"
      },
      "source": [
        "In this exercise you'll try to build a neural network that predicts the price of a house according to a simple formula.\n",
        "\n",
        "So, imagine if house pricing was as easy as a house costs 50k + 50k per bedroom, so that a 1 bedroom house costs 100k, a 2 bedroom house costs 150k etc.\n",
        "\n",
        "How would you create a neural network that learns this relationship so that it would predict a 7 bedroom house as costing close to 400k etc.\n",
        "\n",
        "Hint: Your network might work better if you scale the house price down. You don't have to give the answer 400...it might be better to create something that predicts the number 4, and then your answer is in the 'hundreds of thousands' etc."
      ]
    },
    {
      "cell_type": "code",
      "execution_count": null,
      "metadata": {
        "id": "PUNO2E6SeURH"
      },
      "outputs": [
        {
          "ename": "Error",
          "evalue": "Session cannot generate requests",
          "output_type": "error",
          "traceback": [
            "Error: Session cannot generate requests",
            "at _.executeCodeCell (/home/tamim/.vscode-insiders/extensions/ms-toolsai.jupyter-2021.3.600686576/out/client/extension.js:49:711218)",
            "at _.execute (/home/tamim/.vscode-insiders/extensions/ms-toolsai.jupyter-2021.3.600686576/out/client/extension.js:49:710658)",
            "at _.start (/home/tamim/.vscode-insiders/extensions/ms-toolsai.jupyter-2021.3.600686576/out/client/extension.js:49:706620)",
            "at processTicksAndRejections (internal/process/task_queues.js:97:5)",
            "at async t.CellExecutionQueue.executeQueuedCells (/home/tamim/.vscode-insiders/extensions/ms-toolsai.jupyter-2021.3.600686576/out/client/extension.js:49:720008)",
            "at async t.CellExecutionQueue.start (/home/tamim/.vscode-insiders/extensions/ms-toolsai.jupyter-2021.3.600686576/out/client/extension.js:49:719548)"
          ]
        }
      ],
      "source": [
        "import tensorflow as tf\n",
        "import numpy as np\n",
        "from tensorflow import keras\n",
        "model = tf.keras.Sequential(keras.layers.Dense(1, input_shape=[1]))\n",
        "model.compile(optimizer='sgd', loss='mean_squared_error')\n",
        "xs = [1, 2, 3, 4, 5, 6, 7, 8, 9]\n",
        "ys = [100000, 150000, 200000, 250000, 300000, 350000, 400000, 450000, 500000]\n",
        "model.fit(xs, ys, epochs=500)\n"
      ]
    },
    {
      "cell_type": "code",
      "execution_count": null,
      "metadata": {},
      "outputs": [],
      "source": [
        "print(model.predict([12.0]))"
      ]
    }
  ],
  "metadata": {
    "colab": {
      "name": "Exercise_1_House_Prices_Question.ipynb",
      "provenance": [],
      "toc_visible": true
    },
    "kernelspec": {
      "display_name": "Python 3",
      "language": "python",
      "name": "python3"
    },
    "language_info": {
      "codemirror_mode": {
        "name": "ipython",
        "version": 3
      },
      "file_extension": ".py",
      "mimetype": "text/x-python",
      "name": "python",
      "nbconvert_exporter": "python",
      "pygments_lexer": "ipython3",
      "version": "3.8.5"
    }
  },
  "nbformat": 4,
  "nbformat_minor": 0
}